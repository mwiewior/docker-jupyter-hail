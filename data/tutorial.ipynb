{
 "cells": [
  {
   "cell_type": "code",
   "execution_count": 1,
   "metadata": {
    "collapsed": true
   },
   "outputs": [],
   "source": [
    "from hail import *\n",
    "hc = HailContext()"
   ]
  },
  {
   "cell_type": "code",
   "execution_count": 3,
   "metadata": {
    "collapsed": true
   },
   "outputs": [],
   "source": [
    "vcf = '1000Genomes.ALL.coreExome10K-v1.vcf.bgz'\n",
    "sample_annotations = '1000Genomes.ALL.coreExome10K-v1.sample_annotations'\n",
    "pruned_variants = 'purcell5k.interval_list'"
   ]
  },
  {
   "cell_type": "code",
   "execution_count": 6,
   "metadata": {
    "collapsed": true
   },
   "outputs": [],
   "source": [
    "vds = hc.import_vcf(vcf)\n",
    "vds = vds.split_multi()\n",
    "vds = vds.annotate_samples_table(sample_annotations, root='sa.pheno',sample_expr='Sample', config=TextTableConfig(impute=True))\n",
    "out_path = '1kg.vds'\n",
    "vds.write(out_path)"
   ]
  },
  {
   "cell_type": "code",
   "execution_count": 8,
   "metadata": {
    "collapsed": false
   },
   "outputs": [
    {
     "data": {
      "text/plain": [
       "{u'nGenotypes': 27786135L, u'nVariants': 10961L, u'nSamples': 2535, u'nCalled': 27417806L, u'callRate': 98.6744144156789}"
      ]
     },
     "execution_count": 8,
     "metadata": {},
     "output_type": "execute_result"
    }
   ],
   "source": [
    "vds = hc.read(out_path)\n",
    "vds.count(genotypes=True)"
   ]
  },
  {
   "cell_type": "code",
   "execution_count": 9,
   "metadata": {
    "collapsed": false
   },
   "outputs": [],
   "source": [
    "filter_condition = '''let ab = g.ad[1] / g.ad.sum in\n",
    "                          ((g.isHomRef && ab <= 0.1) || \n",
    "                           (g.isHet && ab >= 0.25 && ab <= 0.75) || \n",
    "                           (g.isHomVar && ab >= 0.9))'''\n",
    "filtered_vds = vds.filter_genotypes(filter_condition)\n",
    "filtered_vds.count(genotypes=True)"
   ]
  },
  {
   "cell_type": "code",
   "execution_count": 12,
   "metadata": {
    "collapsed": false
   },
   "outputs": [
    {
     "data": {
      "text/plain": [
       "<hail.dataset.VariantDataset at 0x7f60e01d0550>"
      ]
     },
     "execution_count": 12,
     "metadata": {},
     "output_type": "execute_result"
    }
   ],
   "source": [
    "filtered_vds_2 = (filtered_vds\n",
    "     .filter_variants_expr('gs.fraction(g => g.isCalled) > 0.95')\n",
    "     .sample_qc())\n",
    "filtered_vds_2.print_schema(sa=True)\n",
    "filtered_vds_2.export_samples('sampleqc.txt', 'Sample = s.id, sa.qc.*')"
   ]
  },
  {
   "cell_type": "code",
   "execution_count": 13,
   "metadata": {
    "collapsed": false
   },
   "outputs": [
    {
     "name": "stdout",
     "output_type": "stream",
     "text": [
      "Sample\tcallRate\tnCalled\tnNotCalled\tnHomRef\tnHet\tnHomVar\tnSNP\tnInsertion\tnDeletion\n",
      "HG00096\t9.65210e-01\t5410\t195\t4072\t682\t656\t1994\t0\t0\n",
      "HG00097\t9.81980e-01\t5504\t101\t4053\t835\t616\t2067\t0\t0\n",
      "HG00099\t9.78591e-01\t5485\t120\t4088\t770\t627\t2024\t0\t0\n",
      "HG00100\t9.88582e-01\t5541\t64\t4076\t902\t563\t2028\t0\t0\n",
      "HG00101\t9.69313e-01\t5433\t172\t4063\t744\t626\t1996\t0\t0\n",
      "HG00102\t9.75022e-01\t5465\t140\t4086\t753\t626\t2005\t0\t0\n",
      "HG00103\t9.60036e-01\t5381\t224\t4094\t615\t672\t1959\t0\t0\n",
      "HG00105\t9.74844e-01\t5464\t141\t4098\t765\t601\t1967\t0\t0\n",
      "HG00106\t9.75022e-01\t5465\t140\t4078\t778\t609\t1996\t0\t0\n"
     ]
    }
   ],
   "source": [
    "%%sh\n",
    "head sampleqc.txt | cut -f 1,2,3,4,5,6,7,8,9,10"
   ]
  }
 ],
 "metadata": {
  "anaconda-cloud": {},
  "kernelspec": {
   "display_name": "Python [conda root]",
   "language": "python",
   "name": "conda-root-py"
  },
  "language_info": {
   "codemirror_mode": {
    "name": "ipython",
    "version": 2
   },
   "file_extension": ".py",
   "mimetype": "text/x-python",
   "name": "python",
   "nbconvert_exporter": "python",
   "pygments_lexer": "ipython2",
   "version": "2.7.12"
  }
 },
 "nbformat": 4,
 "nbformat_minor": 1
}
