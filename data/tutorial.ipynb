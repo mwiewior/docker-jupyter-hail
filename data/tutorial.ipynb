{
 "cells": [
  {
   "cell_type": "code",
   "execution_count": 1,
   "metadata": {
    "collapsed": true
   },
   "outputs": [],
   "source": [
    "from hail import *\n",
    "hc = HailContext()"
   ]
  },
  {
   "cell_type": "code",
   "execution_count": 5,
   "metadata": {
    "collapsed": true
   },
   "outputs": [],
   "source": [
    "vcf = '1000Genomes.ALL.coreExome10K-v1.vcf.bgz'\n",
    "sample_annotations = '1000Genomes.ALL.coreExome10K-v1.sample_annotations'\n",
    "pruned_variants = 'purcell5k.interval_list'"
   ]
  },
  {
   "cell_type": "code",
   "execution_count": 6,
   "metadata": {
    "collapsed": false
   },
   "outputs": [
    {
     "data": {
      "text/plain": [
       "<hail.dataset.VariantDataset at 0x7f04fcc85410>"
      ]
     },
     "execution_count": 6,
     "metadata": {},
     "output_type": "execute_result"
    }
   ],
   "source": [
    "vds = hc.import_vcf(vcf)\n",
    "vds = vds.split_multi()\n",
    "vds = vds.annotate_samples_table(sample_annotations, root='sa.pheno',sample_expr='Sample', config=TextTableConfig(impute=True))\n",
    "out_path = '1kg.vds'\n",
    "vds.write(out_path)"
   ]
  },
  {
   "cell_type": "code",
   "execution_count": 7,
   "metadata": {
    "collapsed": false
   },
   "outputs": [
    {
     "data": {
      "text/plain": [
       "{u'nGenotypes': 27786135L, u'nVariants': 10961L, u'nSamples': 2535, u'nCalled': 27417806L, u'callRate': 98.6744144156789}"
      ]
     },
     "execution_count": 7,
     "metadata": {},
     "output_type": "execute_result"
    }
   ],
   "source": [
    "vds = hc.read(out_path)\n",
    "vds.count(genotypes=True)"
   ]
  },
  {
   "cell_type": "code",
   "execution_count": 8,
   "metadata": {
    "collapsed": false
   },
   "outputs": [
    {
     "data": {
      "text/plain": [
       "{u'nGenotypes': 27786135L, u'nVariants': 10961L, u'nSamples': 2535, u'nCalled': 26404807L, u'callRate': 95.02871486084696}"
      ]
     },
     "execution_count": 8,
     "metadata": {},
     "output_type": "execute_result"
    }
   ],
   "source": [
    "filter_condition = '''let ab = g.ad[1] / g.ad.sum in\n",
    "                          ((g.isHomRef && ab <= 0.1) || \n",
    "                           (g.isHet && ab >= 0.25 && ab <= 0.75) || \n",
    "                           (g.isHomVar && ab >= 0.9))'''\n",
    "filtered_vds = vds.filter_genotypes(filter_condition)\n",
    "filtered_vds.count(genotypes=True)"
   ]
  },
  {
   "cell_type": "code",
   "execution_count": 9,
   "metadata": {
    "collapsed": false
   },
   "outputs": [
    {
     "data": {
      "text/plain": [
       "<hail.dataset.VariantDataset at 0x7f04fcc3c850>"
      ]
     },
     "execution_count": 9,
     "metadata": {},
     "output_type": "execute_result"
    }
   ],
   "source": [
    "filtered_vds_2 = (filtered_vds\n",
    "     .filter_variants_expr('gs.fraction(g => g.isCalled) > 0.95')\n",
    "     .sample_qc())\n",
    "filtered_vds_2.print_schema(sa=True)\n",
    "filtered_vds_2.export_samples('sampleqc.txt', 'Sample = s.id, sa.qc.*')"
   ]
  },
  {
   "cell_type": "code",
   "execution_count": 10,
   "metadata": {
    "collapsed": false
   },
   "outputs": [
    {
     "name": "stdout",
     "output_type": "stream",
     "text": [
      "Sample\tcallRate\tnCalled\tnNotCalled\tnHomRef\tnHet\tnHomVar\tnSNP\tnInsertion\tnDeletion\n",
      "HG00096\t9.65210e-01\t5410\t195\t4072\t682\t656\t1994\t0\t0\n",
      "HG00097\t9.81980e-01\t5504\t101\t4053\t835\t616\t2067\t0\t0\n",
      "HG00099\t9.78591e-01\t5485\t120\t4088\t770\t627\t2024\t0\t0\n",
      "HG00100\t9.88582e-01\t5541\t64\t4076\t902\t563\t2028\t0\t0\n",
      "HG00101\t9.69313e-01\t5433\t172\t4063\t744\t626\t1996\t0\t0\n",
      "HG00102\t9.75022e-01\t5465\t140\t4086\t753\t626\t2005\t0\t0\n",
      "HG00103\t9.60036e-01\t5381\t224\t4094\t615\t672\t1959\t0\t0\n",
      "HG00105\t9.74844e-01\t5464\t141\t4098\t765\t601\t1967\t0\t0\n",
      "HG00106\t9.75022e-01\t5465\t140\t4078\t778\t609\t1996\t0\t0\n"
     ]
    }
   ],
   "source": [
    "%%sh\n",
    "head sampleqc.txt | cut -f 1,2,3,4,5,6,7,8,9,10"
   ]
  },
  {
   "cell_type": "code",
   "execution_count": 12,
   "metadata": {
    "collapsed": false
   },
   "outputs": [
    {
     "name": "stdout",
     "output_type": "stream",
     "text": [
      "before filter: 2535 samples\n",
      "after filter: 1646 samples\n",
      "before filter: 2535 samples\n",
      "after filter: 1646 samples\n"
     ]
    },
    {
     "data": {
      "text/plain": [
       "<hail.dataset.VariantDataset at 0x7f04fcbeac50>"
      ]
     },
     "execution_count": 12,
     "metadata": {},
     "output_type": "execute_result"
    }
   ],
   "source": [
    "(filtered_vds_2\n",
    "      .filter_samples_expr('sa.qc.callRate >= 0.97 && sa.qc.gqMean >= 20')\n",
    "      .export_samples('included_samples.txt', 's.id'))\n",
    "filtered_vds_3 = filtered_vds.filter_samples_list('included_samples.txt')\n",
    "print 'before filter: %d samples' % filtered_vds.num_samples()\n",
    "print 'after filter: %d samples' % filtered_vds_3.num_samples()\n",
    "method_1_kept_ids = filtered_vds_3.sample_ids()\n",
    "\n",
    "filtered_vds_3 = (filtered_vds\n",
    "    .annotate_samples_table('sampleqc.txt', sample_expr='Sample', \n",
    "                            root='sa.qc', config=TextTableConfig(impute=True))\n",
    "    .filter_samples_expr('sa.qc.callRate >= 0.97 && sa.qc.gqMean >= 20'))\n",
    "print 'before filter: %d samples' % filtered_vds.num_samples()\n",
    "print 'after filter: %d samples' % filtered_vds_3.num_samples()\n",
    "method_2_kept_ids = filtered_vds_3.sample_ids()\n",
    "\n",
    "method_1_kept_ids == method_2_kept_ids\n",
    "\n",
    "post_qc_exprs = [\n",
    "    'global.postQC.nCases = samples.filter(s => sa.pheno.PurpleHair).count()',\n",
    "    'global.postQC.nControls = samples.filter(s => !sa.pheno.PurpleHair).count()' ]\n",
    "filtered_vds_3.annotate_global_expr_by_sample(post_qc_exprs).show_globals()\n",
    "\n",
    "filtered_vds_3 = filtered_vds_3.variant_qc()\n",
    "filtered_vds_3.print_schema(va=True)\n",
    "filtered_vds_3.export_variants('variantqc.tsv',\n",
    "                               'Chrom=v.contig, Pos=v.start, Ref=v.ref, Alt=v.alt, va.qc.*')"
   ]
  },
  {
   "cell_type": "code",
   "execution_count": 13,
   "metadata": {
    "collapsed": false
   },
   "outputs": [
    {
     "data": {
      "text/plain": [
       "{u'nSamples': 1646, u'nVariants': 10135L, u'nGenotypes': 16682210L}"
      ]
     },
     "execution_count": 13,
     "metadata": {},
     "output_type": "execute_result"
    }
   ],
   "source": [
    "hwe_expressions = [\n",
    "    'va.hweByPop.hweEUR = gs.filter(g => sa.pheno.SuperPopulation == \"EUR\").hardyWeinberg()',\n",
    "    'va.hweByPop.hweSAS = gs.filter(g => sa.pheno.SuperPopulation == \"SAS\").hardyWeinberg()',\n",
    "    'va.hweByPop.hweAMR = gs.filter(g => sa.pheno.SuperPopulation == \"AMR\").hardyWeinberg()',\n",
    "    'va.hweByPop.hweAFR = gs.filter(g => sa.pheno.SuperPopulation == \"AFR\").hardyWeinberg()',\n",
    "    'va.hweByPop.hweEAS = gs.filter(g => sa.pheno.SuperPopulation == \"EAS\").hardyWeinberg()' ]\n",
    "filtered_vds_3 = filtered_vds_3.annotate_variants_expr(hwe_expressions)\n",
    "filtered_vds_3.persist()\n",
    "filtered_vds_3.print_schema(va=True)\n",
    "\n",
    "hwe_filter_expression = '''\n",
    "    va.hweByPop.hweEUR.pHWE > 1e-6 && \n",
    "    va.hweByPop.hweSAS.pHWE > 1e-6 && \n",
    "    va.hweByPop.hweAMR.pHWE > 1e-6 && \n",
    "    va.hweByPop.hweAFR.pHWE > 1e-6 && \n",
    "    va.hweByPop.hweEAS.pHWE > 1e-6 '''\n",
    "hwe_filtered_vds = filtered_vds_3.filter_variants_expr(hwe_filter_expression)\n",
    "hwe_filtered_vds.count()"
   ]
  },
  {
   "cell_type": "code",
   "execution_count": 14,
   "metadata": {
    "collapsed": false
   },
   "outputs": [
    {
     "data": {
      "text/plain": [
       "273L"
      ]
     },
     "execution_count": 14,
     "metadata": {},
     "output_type": "execute_result"
    }
   ],
   "source": [
    "vds.filter_variants_expr('v.contig == \"X\"').num_variants()"
   ]
  },
  {
   "cell_type": "code",
   "execution_count": 16,
   "metadata": {
    "collapsed": false
   },
   "outputs": [
    {
     "data": {
      "text/plain": [
       "{u'nSamples': 1646, u'nVariants': 9949L, u'nGenotypes': 16376054L}"
      ]
     },
     "execution_count": 16,
     "metadata": {},
     "output_type": "execute_result"
    }
   ],
   "source": [
    "final_filtered_vds = hwe_filtered_vds.filter_variants_expr('va.qc.gqMean >= 20')\n",
    "final_filtered_vds.count()"
   ]
  },
  {
   "cell_type": "code",
   "execution_count": 17,
   "metadata": {
    "collapsed": false
   },
   "outputs": [
    {
     "name": "stdout",
     "output_type": "stream",
     "text": [
      "total variants = 10377\n",
      "X chromosome variants = 268\n"
     ]
    }
   ],
   "source": [
    "sex_aware_hwe_exprs = [ \n",
    "     '''va.hweByPop.hweEUR = \n",
    "        if (v.contig != \"X\") \n",
    "          gs.filter(g => sa.pheno.SuperPopulation == \"EUR\").hardyWeinberg() \n",
    "        else \n",
    "          gs.filter(g => sa.pheno.SuperPopulation == \"EUR\" && sa.pheno.isFemale).hardyWeinberg()''',\n",
    "     '''va.hweByPop.hweSAS = \n",
    "        if (v.contig != \"X\") \n",
    "          gs.filter(g => sa.pheno.SuperPopulation == \"SAS\").hardyWeinberg() \n",
    "        else \n",
    "          gs.filter(g => sa.pheno.SuperPopulation == \"SAS\" && sa.pheno.isFemale).hardyWeinberg()''',\n",
    "     '''va.hweByPop.hweAMR = \n",
    "        if (v.contig != \"X\") \n",
    "          gs.filter(g => sa.pheno.SuperPopulation == \"AMR\").hardyWeinberg() \n",
    "        else \n",
    "          gs.filter(g => sa.pheno.SuperPopulation == \"AMR\" && sa.pheno.isFemale).hardyWeinberg()''',\n",
    "     '''va.hweByPop.hweAFR = \n",
    "        if (v.contig != \"X\") \n",
    "          gs.filter(g => sa.pheno.SuperPopulation == \"AFR\").hardyWeinberg() \n",
    "        else \n",
    "          gs.filter(g => sa.pheno.SuperPopulation == \"AFR\" && sa.pheno.isFemale).hardyWeinberg()''',\n",
    "     '''va.hweByPop.hweEAS = \n",
    "        if (v.contig != \"X\") \n",
    "          gs.filter(g => sa.pheno.SuperPopulation == \"EAS\").hardyWeinberg() \n",
    "        else \n",
    "          gs.filter(g => sa.pheno.SuperPopulation == \"EAS\" && sa.pheno.isFemale).hardyWeinberg()''' ]\n",
    "hwe_filtered_vds_fixed = (filtered_vds_3\n",
    "    .annotate_variants_expr(sex_aware_hwe_exprs)\n",
    "    .filter_variants_expr(hwe_filter_expression)\n",
    "    .persist())\n",
    "print 'total variants = %s' % hwe_filtered_vds_fixed.num_variants()\n",
    "print 'X chromosome variants = %s' % hwe_filtered_vds_fixed.filter_variants_expr('v.contig == \"X\"').num_variants()"
   ]
  },
  {
   "cell_type": "code",
   "execution_count": 18,
   "metadata": {
    "collapsed": false
   },
   "outputs": [
    {
     "name": "stdout",
     "output_type": "stream",
     "text": [
      "total samples: 1646\n",
      "sex_check_passes: 1071\n",
      "samples after filter: 1643\n"
     ]
    }
   ],
   "source": [
    "sex_check_vds = (hwe_filtered_vds_fixed\n",
    "    .impute_sex(maf_threshold=0.05)\n",
    "    .annotate_samples_expr('sa.sexcheck = sa.pheno.isFemale == sa.imputesex.isFemale'))\n",
    "total_samples = sex_check_vds.num_samples()\n",
    "sex_check_passes = sex_check_vds.filter_samples_expr('sa.sexcheck').num_samples()\n",
    "print 'total samples: %s' % total_samples\n",
    "print 'sex_check_passes: %s' % sex_check_passes\n",
    "\n",
    "(sex_check_vds.annotate_global_expr_by_sample(\n",
    "    'global.sexcheckCounter = samples.map(s => sa.sexcheck).counter()')\n",
    "    .show_globals())\n",
    "\n",
    "sex_check_filtered_vds = sex_check_vds.filter_samples_expr('sa.sexcheck || isMissing(sa.sexcheck)').persist()\n",
    "print 'samples after filter: %s' % sex_check_filtered_vds.num_samples()"
   ]
  },
  {
   "cell_type": "code",
   "execution_count": 19,
   "metadata": {
    "collapsed": false
   },
   "outputs": [
    {
     "data": {
      "text/plain": [
       "<hail.dataset.VariantDataset at 0x7f04fcbea7d0>"
      ]
     },
     "execution_count": 19,
     "metadata": {},
     "output_type": "execute_result"
    }
   ],
   "source": [
    "pca_vds = (sex_check_filtered_vds.filter_variants_intervals('purcell5k.interval_list')\n",
    "    .pca(scores='sa.pca'))\n",
    "pca_vds.export_samples('pcaPlusPopulation.tsv', \n",
    "    'Sample=s, SuperPopulation=sa.pheno.SuperPopulation,'\n",
    "    'Population=sa.pheno.Population, sa.pca.*')"
   ]
  },
  {
   "cell_type": "code",
   "execution_count": 22,
   "metadata": {
    "collapsed": false
   },
   "outputs": [
    {
     "data": {
      "text/plain": [
       "<hail.dataset.VariantDataset at 0x7f04fcbeab50>"
      ]
     },
     "execution_count": 22,
     "metadata": {},
     "output_type": "execute_result"
    }
   ],
   "source": [
    "rare_variant_annotations = [\n",
    "    '''va.minorCase = \n",
    "        gs.filter(g => sa.pheno.PurpleHair && g.isHet).count() +\n",
    "        2 * gs.filter(g => sa.pheno.PurpleHair && g.isHomVar).count()''',\n",
    "    '''va.minorControl = \n",
    "        gs.filter(g => !sa.pheno.PurpleHair && g.isHet).count() + \n",
    "        2 * gs.filter(g => !sa.pheno.PurpleHair && g.isHomVar).count()''',\n",
    "    '''va.majorCase = \n",
    "        gs.filter(g => sa.pheno.PurpleHair && g.isHet).count() +\n",
    "        2 * gs.filter(g => sa.pheno.PurpleHair && g.isHomRef).count()''',\n",
    "    '''va.majorControl = \n",
    "        gs.filter(g => !sa.pheno.PurpleHair && g.isHet).count() +\n",
    "        2 * gs.filter(g => !sa.pheno.PurpleHair && g.isHomRef).count()''' ]\n",
    "\n",
    "(sex_check_filtered_vds\n",
    "    .filter_variants_expr('va.qc.AF <= 0.05 || va.qc.AF >= 0.95')\n",
    "    .annotate_variants_expr(rare_variant_annotations)\n",
    "    .annotate_variants_expr('''va.fet = \n",
    "                                fet(va.minorCase.toInt, va.minorControl.toInt,\n",
    "                                    va.majorCase.toInt, va.majorControl.toInt)''')\n",
    "    .export_variants('fisherExactTest.tsv', 'Variant = v, va.fet.*'))"
   ]
  }
 ],
 "metadata": {
  "anaconda-cloud": {},
  "kernelspec": {
   "display_name": "Python [conda root]",
   "language": "python",
   "name": "conda-root-py"
  },
  "language_info": {
   "codemirror_mode": {
    "name": "ipython",
    "version": 2
   },
   "file_extension": ".py",
   "mimetype": "text/x-python",
   "name": "python",
   "nbconvert_exporter": "python",
   "pygments_lexer": "ipython2",
   "version": "2.7.12"
  }
 },
 "nbformat": 4,
 "nbformat_minor": 1
}
